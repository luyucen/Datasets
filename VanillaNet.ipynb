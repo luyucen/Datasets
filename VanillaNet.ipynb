{
 "cells": [
  {
   "cell_type": "code",
   "execution_count": 1,
   "metadata": {
    "collapsed": true
   },
   "outputs": [],
   "source": [
    "import tensorflow as tf\n",
    "import matplotlib.pyplot as plt\n",
    "import numpy as np\n",
    "import matplotlib.pyplot as plt\n"
   ]
  },
  {
   "cell_type": "code",
   "execution_count": 2,
   "metadata": {},
   "outputs": [],
   "source": [
    "# Get training and validation  Data\n",
    "train_X = np.random.rand(1000,10)\n",
    "val_X = np.random.rand(300,10)\n",
    "\n",
    "train_Y = np.add(train_X[:,1]*0.6,train_X[:,2]*2) #+ np.random.normal(0,0.5,1000)\n",
    "val_Y = np.add(val_X[:,1]*0.6,val_X[:,2]*2) #+ np.random.normal(0,0.5,300)\n",
    "\n",
    "\n",
    "train_size = train_X.shape[0]\n",
    "val_size = val_X.shape[0]\n",
    "features_size = train_X.shape[1] #features size for one example \n",
    "output_size = 1"
   ]
  },
  {
   "cell_type": "code",
   "execution_count": 3,
   "metadata": {
    "collapsed": true
   },
   "outputs": [],
   "source": [
    "# Set Training Parameters\n",
    "learning_rate = 0.001\n",
    "training_epochs = 1000\n",
    "display_step = 50\n",
    "epochs = 50\n",
    "batch_size = 28"
   ]
  },
  {
   "cell_type": "code",
   "execution_count": 4,
   "metadata": {
    "scrolled": true
   },
   "outputs": [],
   "source": [
    "#Create the net graph: \n",
    "# input : vector x s.t size of x = [1,features_size]\n",
    "# output : scalar\n",
    "# the net = 2 fc layers \n",
    "# objective : minimize  the euclidean loss\n",
    "\n",
    "x = tf.placeholder(tf.float32, [None,features_size]) \n",
    "y = tf.placeholder(tf.float32, [None,output_size])\n",
    "\n",
    "\n",
    "weights_1 = tf.Variable(\n",
    "    tf.random_normal([features_size, 2048]))\n",
    "biases_1 = tf.Variable(tf.ones([2048]))\n",
    "\n",
    "weights_2 = tf.Variable(\n",
    "    tf.truncated_normal([2048, output_size]))\n",
    "biases_2 = tf.Variable(tf.ones(output_size))\n",
    "\n",
    "layer_1 = tf.add(tf.matmul(x,weights_1),biases_1)\n",
    "layer_1 = tf.nn.relu(layer_1)\n",
    "\n",
    "layer_2 = tf.add(tf.matmul(layer_1,weights_2),biases_2)\n",
    "\n",
    "pred = layer_2\n",
    "\n",
    "# Mean euclidean distance\n",
    "loss =  tf.reduce_mean(tf.sqrt(tf.pow(pred-y, 2)))\n",
    "optimizer = tf.train.GradientDescentOptimizer(0.1).minimize(loss)\n"
   ]
  },
  {
   "cell_type": "code",
   "execution_count": 5,
   "metadata": {
    "collapsed": true
   },
   "outputs": [],
   "source": [
    "# Returns batch of input X and corresponding lables Y \n",
    "#  data: numpy array contains all the input vectors\n",
    "#  label: numpy array contains all the labels scalars\n",
    "#  batch_i: indexs for the batch  \n",
    "def get_batch(data,labels, bacth_i):\n",
    "    X = np.reshape(data[bacth_i],(bacth_i.shape[0],data.shape[1]))\n",
    "    Y = np.reshape(labels[bacth_i],(bacth_i.shape[0],1))\n",
    "    return X,Y\n"
   ]
  },
  {
   "cell_type": "code",
   "execution_count": 6,
   "metadata": {},
   "outputs": [
    {
     "name": "stdout",
     "output_type": "stream",
     "text": [
      "Epoch: 0001 train = 285.451480820 val = 67.405700684\n",
      "Epoch: 0002 train = 83.286491867 val = 32.347827911\n",
      "Epoch: 0003 train = 31.835177925 val = 23.720573425\n",
      "Epoch: 0004 train = 17.856782825 val = 12.593025208\n",
      "Epoch: 0005 train = 11.088238544 val = 8.853067398\n",
      "Epoch: 0006 train = 8.519371397 val = 9.219834328\n",
      "Epoch: 0007 train = 5.943457087 val = 6.295301914\n",
      "Epoch: 0008 train = 5.258818146 val = 3.172242165\n",
      "Epoch: 0009 train = 3.941198856 val = 2.354306698\n",
      "Epoch: 0010 train = 3.408477298 val = 2.238893986\n",
      "Epoch: 0011 train = 2.997308942 val = 3.175542355\n",
      "Epoch: 0012 train = 2.711713013 val = 2.415003777\n",
      "Epoch: 0013 train = 2.410228239 val = 1.494509935\n",
      "Epoch: 0014 train = 2.205339717 val = 2.119751692\n",
      "Epoch: 0015 train = 1.941051988 val = 1.175874829\n",
      "Epoch: 0016 train = 1.932165020 val = 1.600540757\n",
      "Epoch: 0017 train = 1.761334816 val = 1.680292726\n",
      "Epoch: 0018 train = 1.523352676 val = 1.075069427\n",
      "Epoch: 0019 train = 1.288764942 val = 2.205192089\n",
      "Epoch: 0020 train = 1.477039023 val = 1.739860296\n",
      "Epoch: 0021 train = 1.351636907 val = 1.081477284\n",
      "Epoch: 0022 train = 1.287496641 val = 1.581650615\n",
      "Epoch: 0023 train = 1.089487129 val = 0.918089867\n",
      "Epoch: 0024 train = 0.977515806 val = 1.543669224\n",
      "Epoch: 0025 train = 1.075670172 val = 1.330247164\n",
      "Epoch: 0026 train = 1.095706706 val = 1.036996484\n",
      "Epoch: 0027 train = 0.961252270 val = 1.133996964\n",
      "Epoch: 0028 train = 0.916274806 val = 1.219473481\n",
      "Epoch: 0029 train = 0.919505718 val = 0.889493883\n",
      "Epoch: 0030 train = 0.829619268 val = 0.878958464\n",
      "Epoch: 0031 train = 0.837975004 val = 1.314600468\n",
      "Epoch: 0032 train = 0.717957692 val = 1.073435545\n",
      "Epoch: 0033 train = 0.863960584 val = 1.159781098\n",
      "Epoch: 0034 train = 0.779056761 val = 0.658759832\n",
      "Epoch: 0035 train = 0.781336815 val = 1.006269455\n",
      "Epoch: 0036 train = 0.714080554 val = 0.780064762\n",
      "Epoch: 0037 train = 0.621893504 val = 0.882097721\n",
      "Epoch: 0038 train = 0.650528323 val = 0.640297651\n",
      "Epoch: 0039 train = 0.752390617 val = 0.614318252\n",
      "Epoch: 0040 train = 0.585104191 val = 0.608796716\n",
      "Epoch: 0041 train = 0.538836240 val = 0.658543289\n",
      "Epoch: 0042 train = 0.543725515 val = 0.653747141\n",
      "Epoch: 0043 train = 0.594254601 val = 0.726919472\n",
      "Epoch: 0044 train = 0.618278008 val = 0.814221442\n",
      "Epoch: 0045 train = 0.541764891 val = 0.648272514\n",
      "Epoch: 0046 train = 0.501724901 val = 0.952726305\n",
      "Epoch: 0047 train = 0.593492749 val = 0.731854796\n",
      "Epoch: 0048 train = 0.530719295 val = 0.668082416\n",
      "Epoch: 0049 train = 0.504627594 val = 0.733827293\n",
      "Epoch: 0050 train = 0.495909117 val = 0.770683348\n"
     ]
    }
   ],
   "source": [
    "#Start a session and train the network\n",
    "init = tf.global_variables_initializer()\n",
    "sess = tf.InteractiveSession()\n",
    "sess.run(init)\n",
    "\n",
    "train_loss = np.zeros(epochs)\n",
    "val_loss = np.zeros(epochs)\n",
    "\n",
    "for epoch in range(epochs):\n",
    "    for i in range (round(train_size/batch_size)):\n",
    "        # choose the batch randomly \n",
    "        batch_index = np.random.randint(0,train_size,batch_size)\n",
    "        x_, y_ = get_batch(train_X,train_Y, batch_index)\n",
    "        _, c = sess.run([optimizer, loss], feed_dict={x: x_, y:y_})\n",
    "        train_loss[epoch] +=  (c*batch_size)/train_size\n",
    "    #Validation \n",
    "    x_, y_ = get_batch(val_X,val_Y, np.arange(val_size))\n",
    "    val_loss[epoch] = sess.run(loss, feed_dict={x: x_, y:y_}) \n",
    "    print(\"Epoch:\", '%04d' % (epoch+1),\n",
    "              \"train =\", \"{:.9f}\".format(train_loss[epoch]),\n",
    "                \"val =\", \"{:.9f}\".format(val_loss[epoch]))\n",
    "\n",
    "#print(sess.run([pred],feed_dict={x: train_X}))\n"
   ]
  },
  {
   "cell_type": "code",
   "execution_count": 7,
   "metadata": {},
   "outputs": [
    {
     "data": {
      "image/png": "[encoded data removed]",
      "text/plain": [
       "<matplotlib.figure.Figure at 0x2b85b93eb588>"
      ]
     },
     "metadata": {},
     "output_type": "display_data"
    }
   ],
   "source": [
    "# plot the learning graph \n",
    "plt.plot(train_loss[1:-1], 'r--', val_loss[1:-1], 'b--')\n",
    "plt.ylabel('euclidean distance')\n",
    "plt.xlabel('epoch')\n",
    "plt.show()"
   ]
  },
  {
   "cell_type": "code",
   "execution_count": 52,
   "metadata": {},
   "outputs": [
    {
     "data": {
      "text/plain": [
       "4772.6266657772758"
      ]
     },
     "execution_count": 52,
     "metadata": {},
     "output_type": "execute_result"
    }
   ],
   "source": [
    "np.max(train_X)"
   ]
  },
  {
   "cell_type": "code",
   "execution_count": null,
   "metadata": {
    "collapsed": true
   },
   "outputs": [],
   "source": []
  }
 ],
 "metadata": {
  "kernelspec": {
   "display_name": "Python 3",
   "language": "python",
   "name": "python3"
  },
  "language_info": {
   "codemirror_mode": {
    "name": "ipython",
    "version": 3
   },
   "file_extension": ".py",
   "mimetype": "text/x-python",
   "name": "python",
   "nbconvert_exporter": "python",
   "pygments_lexer": "ipython3",
   "version": "3.7.3"
  }
 },
 "nbformat": 4,
 "nbformat_minor": 1
}
